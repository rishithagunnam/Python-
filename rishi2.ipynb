{
 "cells": [
  {
   "cell_type": "code",
   "execution_count": 1,
   "metadata": {},
   "outputs": [
    {
     "name": "stdout",
     "output_type": "stream",
     "text": [
      "90\n"
     ]
    }
   ],
   "source": [
    "def printEven(n):\n",
    "    count=0\n",
    "    sum=0\n",
    "    while(count!=n):\n",
    "        if (count%2==0):\n",
    "            sum=sum+count\n",
    "        count=count+1\n",
    "    return sum\n",
    "print(printEven(20))"
   ]
  },
  {
   "cell_type": "code",
   "execution_count": 3,
   "metadata": {},
   "outputs": [
    {
     "name": "stdout",
     "output_type": "stream",
     "text": [
      "[1, 2, 3, 4, 5]\n",
      "1\n"
     ]
    }
   ],
   "source": [
    "list1=[1,2,3,4,5]\n",
    "print(list1)\n",
    "print(list1[0])"
   ]
  },
  {
   "cell_type": "code",
   "execution_count": 4,
   "metadata": {},
   "outputs": [
    {
     "name": "stdout",
     "output_type": "stream",
     "text": [
      "anil\n"
     ]
    }
   ],
   "source": [
    "list2=[\"akhil\",\"arvind\",\"anil\",\"akash\"]\n",
    "for x in list2:\n",
    "    if(x==\"anil\"):\n",
    "        print(x)"
   ]
  },
  {
   "cell_type": "code",
   "execution_count": 6,
   "metadata": {},
   "outputs": [
    {
     "name": "stdout",
     "output_type": "stream",
     "text": [
      "riya priya "
     ]
    }
   ],
   "source": [
    "list2=[\"riya\",\"priya\"]\n",
    "for x in list2:\n",
    "    print(x,end=\" \")"
   ]
  },
  {
   "cell_type": "code",
   "execution_count": 7,
   "metadata": {},
   "outputs": [
    {
     "name": "stdout",
     "output_type": "stream",
     "text": [
      "1 2 3 4 5 6 7 \n",
      "5\n",
      "[4, 5, 6, 7]\n",
      "[1, 2, 3]\n",
      "[1, 2, 3]\n",
      "[1, 2, 3, 4, 5, 6, 7]\n",
      "[]\n"
     ]
    }
   ],
   "source": [
    "list1=[1,2,3,4,5,6,7]\n",
    "for x in list1:\n",
    "    print(x,end=\" \")\n",
    "print()\n",
    "print(list1[4])\n",
    "print(list1[3:7])\n",
    "print(list1[0:3])\n",
    "print(list1[:3])\n",
    "print(list1[:7])\n",
    "print(list1[-1:-1])\n",
    "    "
   ]
  },
  {
   "cell_type": "markdown",
   "metadata": {},
   "source": []
  },
  {
   "cell_type": "code",
   "execution_count": 8,
   "metadata": {},
   "outputs": [
    {
     "name": "stdout",
     "output_type": "stream",
     "text": [
      "1 2 3 4 5 6 7 8 9 10 \n",
      "[2, 3, 4, 5, 6, 7, 8, 9]\n",
      "[3, 4, 5, 6, 7, 8]\n",
      "[1, 3, 5, 7, 9]\n",
      "[1, 4, 7, 10]\n",
      "[1, 5, 9]\n",
      "[10, 8, 6, 4, 2]\n",
      "[]\n"
     ]
    }
   ],
   "source": [
    "list1=[1,2,3,4,5,6,7,8,9,10]\n",
    "for x in list1:\n",
    "    print(x,end=\" \")\n",
    "print()\n",
    "print(list1[1:-1])\n",
    "print(list1[2:-2])\n",
    "print(list1[::2])\n",
    "print(list1[::3])\n",
    "print(list1[::4])\n",
    "print(list1[::-2])\n",
    "print(list1[-1:-1])"
   ]
  },
  {
   "cell_type": "code",
   "execution_count": 1,
   "metadata": {},
   "outputs": [
    {
     "name": "stdout",
     "output_type": "stream",
     "text": [
      "['anil', 'adarsh', 'akhil', '2']\n",
      "['anil', 'adarsh', 15, '2']\n",
      "['anil', 'adarsh', 15]\n",
      "['anil', 'gitam', 15]\n",
      "['anil', 'gitam', 15, 1, 2, 3]\n"
     ]
    }
   ],
   "source": [
    "list1=[\"anil\",\"adarsh\",\"akhil\",\"2\"]\n",
    "print(list1)\n",
    "list1[2]=15\n",
    "print(list1)\n",
    "del list1[3]\n",
    "print(list1)\n",
    "list1[1]=\"gitam\"\n",
    "print(list1)\n",
    "list=[1,2,3]\n",
    "print(list1+list)"
   ]
  },
  {
   "cell_type": "code",
   "execution_count": 3,
   "metadata": {},
   "outputs": [
    {
     "name": "stdout",
     "output_type": "stream",
     "text": [
      "[1, 2, 3, 4, 5]\n",
      "[1, 2, 4, 5]\n",
      "4\n",
      "[1, 2, 4, 5, 15, 150, 1, 3, 1]\n",
      "3\n",
      "1\n"
     ]
    }
   ],
   "source": [
    "list1=[1,2,3,4,5]\n",
    "print(list1)\n",
    "del list1[2]\n",
    "print(list1)\n",
    "print(len(list1))\n",
    "list1.append(15)\n",
    "list1.append(150)\n",
    "list1.append(1)\n",
    "list1.append(3)\n",
    "list1.append(1)\n",
    "print(list1)\n",
    "print(list1.count(1))\n",
    "print(list1.count(3))"
   ]
  },
  {
   "cell_type": "code",
   "execution_count": 4,
   "metadata": {},
   "outputs": [
    {
     "name": "stdout",
     "output_type": "stream",
     "text": [
      "['gitam', 'python', 'raptor', 1, 5, 'python', 'python']\n",
      "7\n",
      "['gitam', 'python', 2019, 'raptor', 1, 5, 'python', 'python']\n",
      "8\n",
      "['gitam', 'python', 2019, 'raptor', 2020, 1, 5, 'python', 'python']\n"
     ]
    }
   ],
   "source": [
    "list1=[\"gitam\",\"python\",\"raptor\",1,5,\"python\",\"python\"]\n",
    "print(list1)\n",
    "list1.index(\"python\")\n",
    "list1.index(1)\n",
    "print(len(list1))\n",
    "list1.insert(2,2019)\n",
    "print(list1)\n",
    "print(len(list1))\n",
    "list1.insert(4,2020)\n",
    "print(list1)"
   ]
  },
  {
   "cell_type": "code",
   "execution_count": 6,
   "metadata": {},
   "outputs": [
    {
     "name": "stdout",
     "output_type": "stream",
     "text": [
      "target item is not found\n",
      "target item is not found\n",
      "target item is not found\n",
      "target item is not found\n",
      "target item is not found\n",
      "target item is not found\n",
      "target item is not found\n"
     ]
    }
   ],
   "source": [
    "def linearsearch(a,tarItem):\n",
    "    flag=0\n",
    "    for i in range(len(a)):\n",
    "        if a[i]==tarItem:\n",
    "            flag=1\n",
    "            break\n",
    "        if(flag!=0):\n",
    "            print(\"target itam is found\")\n",
    "        else:\n",
    "            print(\"target item is not found\")\n",
    "a=[16,2,12,6,9,7,1]\n",
    "linearsearch(a,68)\n",
    "    "
   ]
  },
  {
   "cell_type": "code",
   "execution_count": 7,
   "metadata": {},
   "outputs": [
    {
     "name": "stdout",
     "output_type": "stream",
     "text": [
      "2\n"
     ]
    }
   ],
   "source": [
    "def linearsearchduplicate(a,tarItem):\n",
    "    flag=0\n",
    "    for i in range(len(a)):\n",
    "        if a[i]==tarItem:\n",
    "            flag=flag+1\n",
    "    print(flag)\n",
    "a=[9,1,6,1,5,9,15,16]\n",
    "linearsearchduplicate(a,9)\n"
   ]
  },
  {
   "cell_type": "code",
   "execution_count": null,
   "metadata": {},
   "outputs": [],
   "source": []
  }
 ],
 "metadata": {
  "kernelspec": {
   "display_name": "Python 3",
   "language": "python",
   "name": "python3"
  },
  "language_info": {
   "codemirror_mode": {
    "name": "ipython",
    "version": 3
   },
   "file_extension": ".py",
   "mimetype": "text/x-python",
   "name": "python",
   "nbconvert_exporter": "python",
   "pygments_lexer": "ipython3",
   "version": "3.7.3"
  }
 },
 "nbformat": 4,
 "nbformat_minor": 2
}
