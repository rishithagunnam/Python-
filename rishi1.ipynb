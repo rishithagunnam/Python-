{
 "cells": [
  {
   "cell_type": "code",
   "execution_count": 1,
   "metadata": {},
   "outputs": [
    {
     "name": "stdout",
     "output_type": "stream",
     "text": [
      "the number is less than 15\n"
     ]
    }
   ],
   "source": [
    "x=10\n",
    "if(x<15):\n",
    "    print(\"the number is less than 15\")"
   ]
  },
  {
   "cell_type": "code",
   "execution_count": 7,
   "metadata": {},
   "outputs": [],
   "source": [
    "x=10\n",
    "if(x>15):\n",
    "    print(\"hello\")"
   ]
  },
  {
   "cell_type": "code",
   "execution_count": 8,
   "metadata": {},
   "outputs": [
    {
     "name": "stdout",
     "output_type": "stream",
     "text": [
      "hello Good Afternoon\n"
     ]
    }
   ],
   "source": [
    "x=10\n",
    "if(x>15):\n",
    "    print(\"hello Good Morning\")\n",
    "else:\n",
    "    print(\"hello Good Afternoon\")"
   ]
  },
  {
   "cell_type": "code",
   "execution_count": 9,
   "metadata": {},
   "outputs": [
    {
     "name": "stdout",
     "output_type": "stream",
     "text": [
      "y is greater\n"
     ]
    }
   ],
   "source": [
    "x=5\n",
    "y=10\n",
    "if(x<y):\n",
    "    print(\"y is greater\")\n",
    "else:\n",
    "    print(\"x is greater\")"
   ]
  },
  {
   "cell_type": "code",
   "execution_count": 13,
   "metadata": {},
   "outputs": [
    {
     "name": "stdout",
     "output_type": "stream",
     "text": [
      "y is greater\n"
     ]
    }
   ],
   "source": [
    "x=10\n",
    "y=20\n",
    "z=30\n",
    "if((x<y)and(x<z)):\n",
    "    print(\"y is greater\")\n",
    "elif ((y<x)and(y<z)):\n",
    "    print(\"z is greater\")\n",
    "else:\n",
    "    print(\"x is greater\")"
   ]
  },
  {
   "cell_type": "code",
   "execution_count": 14,
   "metadata": {},
   "outputs": [
    {
     "name": "stdout",
     "output_type": "stream",
     "text": [
      "it's negative number\n"
     ]
    }
   ],
   "source": [
    "x=-10\n",
    "if(x<0):\n",
    "    print(\"it's negative number\")\n",
    "elif(x>0):\n",
    "    print(\"it's positive number\")\n",
    "elif(x==0):\n",
    "    print(\"it's zero\")"
   ]
  },
  {
   "cell_type": "code",
   "execution_count": 15,
   "metadata": {},
   "outputs": [
    {
     "name": "stdout",
     "output_type": "stream",
     "text": [
      "1\n",
      "2\n",
      "3\n",
      "4\n",
      "5\n",
      "6\n",
      "7\n",
      "8\n",
      "9\n",
      "10\n"
     ]
    }
   ],
   "source": [
    "n=1\n",
    "while(n<=10):\n",
    " print(n)\n",
    " n=n+1   "
   ]
  },
  {
   "cell_type": "code",
   "execution_count": 20,
   "metadata": {},
   "outputs": [
    {
     "name": "stdout",
     "output_type": "stream",
     "text": [
      "10\n",
      "9\n",
      "8\n",
      "7\n",
      "6\n",
      "5\n",
      "4\n",
      "3\n",
      "2\n",
      "1\n"
     ]
    }
   ],
   "source": [
    "n=10\n",
    "while(n>=1):\n",
    "    print(n)\n",
    "    n=n-1;"
   ]
  },
  {
   "cell_type": "code",
   "execution_count": 23,
   "metadata": {},
   "outputs": [
    {
     "name": "stdout",
     "output_type": "stream",
     "text": [
      "1\n",
      "3\n",
      "5\n",
      "7\n",
      "9\n",
      "11\n",
      "13\n",
      "15\n",
      "17\n",
      "19\n"
     ]
    }
   ],
   "source": [
    "n=1\n",
    "while(n<=20):\n",
    "    print(n)\n",
    "    n=n+2"
   ]
  },
  {
   "cell_type": "code",
   "execution_count": 1,
   "metadata": {},
   "outputs": [
    {
     "name": "stdout",
     "output_type": "stream",
     "text": [
      "0\n",
      "2\n",
      "4\n",
      "6\n",
      "8\n",
      "10\n",
      "12\n",
      "14\n",
      "16\n",
      "18\n",
      "20\n"
     ]
    }
   ],
   "source": [
    "n=0\n",
    "while(n<=20):\n",
    "    print(n)\n",
    "    n=n+2\n",
    "    "
   ]
  },
  {
   "cell_type": "markdown",
   "metadata": {},
   "source": []
  },
  {
   "cell_type": "code",
   "execution_count": 1,
   "metadata": {},
   "outputs": [
    {
     "name": "stdout",
     "output_type": "stream",
     "text": [
      "enter lower limit1\n",
      "enter upper limit100\n",
      "2450\n"
     ]
    }
   ],
   "source": [
    "x=int(input(\"enter lower limit\"))\n",
    "y=int(input(\"enter upper limit\"))\n",
    "sum=0\n",
    "while(x!=y):\n",
    "    if(x%2==0):\n",
    "        sum=sum+x\n",
    "    x=x+1\n",
    "print(sum)"
   ]
  },
  {
   "cell_type": "code",
   "execution_count": 2,
   "metadata": {},
   "outputs": [
    {
     "name": "stdout",
     "output_type": "stream",
     "text": [
      "enter the value145\n",
      "5\n",
      "4\n",
      "1\n"
     ]
    }
   ],
   "source": [
    "x=int(input(\"enter the value\"));\n",
    "while(x!=0):\n",
    "    r=x%10\n",
    "    print(r)\n",
    "    x=x//10"
   ]
  },
  {
   "cell_type": "code",
   "execution_count": 6,
   "metadata": {},
   "outputs": [
    {
     "name": "stdout",
     "output_type": "stream",
     "text": [
      "enter the value145\n",
      "4\n"
     ]
    }
   ],
   "source": [
    "x=int(input(\"enter the value\"))\n",
    "sum=0\n",
    "while(x!=0):\n",
    "    r=x%10\n",
    "    if(r%2==0):\n",
    "     sum=sum+r\n",
    "    x=x//10\n",
    "print(sum)"
   ]
  },
  {
   "cell_type": "code",
   "execution_count": 7,
   "metadata": {},
   "outputs": [
    {
     "name": "stdout",
     "output_type": "stream",
     "text": [
      "enter a number145\n",
      "five\n",
      "four\n",
      "one\n"
     ]
    }
   ],
   "source": [
    "x=int(input(\"enter a number\"))\n",
    "while(x!=0):\n",
    "    r=x%10\n",
    "    if(r==0):\n",
    "        print(\"zero\")\n",
    "    elif(r==1):\n",
    "        print(\"one\")\n",
    "    elif(r==2):\n",
    "        printf(\"two\")\n",
    "    elif(r==3):\n",
    "        print(\"three\")\n",
    "    elif(r==4):\n",
    "        print(\"four\")\n",
    "    elif(r==5):\n",
    "        print(\"five\")\n",
    "    elif(r==6):\n",
    "        print(\"six\")\n",
    "    elif(r==7):\n",
    "        print(\"seven\")\n",
    "    elif(r==8):\n",
    "        print(\"eight\")\n",
    "    elif(r==9):\n",
    "        print(\"nine\")\n",
    "    x=x//10"
   ]
  },
  {
   "cell_type": "markdown",
   "metadata": {},
   "source": []
  },
  {
   "cell_type": "code",
   "execution_count": null,
   "metadata": {},
   "outputs": [],
   "source": [
    "x=int(input())"
   ]
  }
 ],
 "metadata": {
  "kernelspec": {
   "display_name": "Python 3",
   "language": "python",
   "name": "python3"
  },
  "language_info": {
   "codemirror_mode": {
    "name": "ipython",
    "version": 3
   },
   "file_extension": ".py",
   "mimetype": "text/x-python",
   "name": "python",
   "nbconvert_exporter": "python",
   "pygments_lexer": "ipython3",
   "version": "3.7.3"
  }
 },
 "nbformat": 4,
 "nbformat_minor": 2
}
